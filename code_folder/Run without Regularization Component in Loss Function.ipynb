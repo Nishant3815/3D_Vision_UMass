{
 "cells": [
  {
   "cell_type": "code",
   "execution_count": 1,
   "metadata": {},
   "outputs": [],
   "source": [
    "# Import relevant packages\n",
    "from utils import save_data\n",
    "import os\n",
    "import numpy as np\n",
    "from computeShapeHistogram import computeShapeHistogram\n",
    "from utils import load_data\n",
    "from Mesh import Mesh\n",
    "from logisticRegressionTrain import logisticRegressionTrain\n",
    "from logisticRegressionTest import logisticRegressionTest"
   ]
  },
  {
   "cell_type": "code",
   "execution_count": 2,
   "metadata": {},
   "outputs": [],
   "source": [
    "# Import train and test directories\n",
    "# Dataset directory\n",
    "train_dir = '../dataset/train'\n",
    "test_dir = '../dataset/test'"
   ]
  },
  {
   "cell_type": "code",
   "execution_count": 3,
   "metadata": {},
   "outputs": [],
   "source": [
    "# Run training module for Logistic Regression without regularisation\n",
    "w, min_y, max_y = logisticRegressionTrain(train_dir,reg_lambda=0,loadData=True)"
   ]
  },
  {
   "cell_type": "code",
   "execution_count": 4,
   "metadata": {},
   "outputs": [
    {
     "data": {
      "text/plain": [
       "array([-0.16717376,  0.24629455, -0.3909624 ,  0.63088938,  0.62272038,\n",
       "       -1.03512446, -3.05214736, -2.32609861,  7.47462549, -3.56341105,\n",
       "       -0.21467659])"
      ]
     },
     "execution_count": 4,
     "metadata": {},
     "output_type": "execute_result"
    }
   ],
   "source": [
    "# Print weights and biases (note that the last component is for bias according to code)\n",
    "w"
   ]
  },
  {
   "cell_type": "code",
   "execution_count": 5,
   "metadata": {},
   "outputs": [
    {
     "name": "stdout",
     "output_type": "stream",
     "text": [
      "Test classification error : 0.00%\n"
     ]
    }
   ],
   "source": [
    "# Run the testing module on test data with training weights\n",
    "t, test_err,pred_lab,true_lab = logisticRegressionTest(test_dir, w, min_y, max_y, loadData=True)"
   ]
  },
  {
   "cell_type": "code",
   "execution_count": 6,
   "metadata": {},
   "outputs": [
    {
     "data": {
      "text/plain": [
       "(array([0.85185345, 0.24020233, 0.25967558, 0.82864647, 0.29375736,\n",
       "        0.1163407 , 0.24675039, 0.80369612, 0.86373132, 0.11746774,\n",
       "        0.86073768, 0.72934597, 0.09844256, 0.84635711, 0.81620579,\n",
       "        0.31688655, 0.83495123, 0.84140206, 0.25127242, 0.10207459,\n",
       "        0.27509076, 0.52171499]),\n",
       " 0.0,\n",
       " [1, 0, 0, 1, 0, 0, 0, 1, 1, 0, 1, 1, 0, 1, 1, 0, 1, 1, 0, 0, 0, 1],\n",
       " array([[1, 0, 0, 1, 0, 0, 0, 1, 1, 0, 1, 1, 0, 1, 1, 0, 1, 1, 0, 0, 0, 1]]))"
      ]
     },
     "execution_count": 6,
     "metadata": {},
     "output_type": "execute_result"
    }
   ],
   "source": [
    "# Print E\n",
    "# t: Prediction probability\n",
    "# test_err = 1-accuracy\n",
    "# pred_lab: predicted label\n",
    "#true_lab: true_label\n",
    "t,test_err,pred_lab,true_lab"
   ]
  },
  {
   "cell_type": "code",
   "execution_count": 7,
   "metadata": {},
   "outputs": [
    {
     "data": {
      "text/plain": [
       "100.0"
      ]
     },
     "execution_count": 7,
     "metadata": {},
     "output_type": "execute_result"
    }
   ],
   "source": [
    "# Calculate accuracy below\n",
    "100-test_err*100"
   ]
  },
  {
   "cell_type": "code",
   "execution_count": null,
   "metadata": {},
   "outputs": [],
   "source": []
  },
  {
   "cell_type": "code",
   "execution_count": null,
   "metadata": {},
   "outputs": [],
   "source": []
  }
 ],
 "metadata": {
  "kernelspec": {
   "display_name": "Python 3",
   "language": "python",
   "name": "python3"
  },
  "language_info": {
   "codemirror_mode": {
    "name": "ipython",
    "version": 3
   },
   "file_extension": ".py",
   "mimetype": "text/x-python",
   "name": "python",
   "nbconvert_exporter": "python",
   "pygments_lexer": "ipython3",
   "version": "3.8.3"
  }
 },
 "nbformat": 4,
 "nbformat_minor": 4
}
