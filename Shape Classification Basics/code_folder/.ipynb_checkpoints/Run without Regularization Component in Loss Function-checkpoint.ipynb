{
 "cells": [
  {
   "cell_type": "code",
   "execution_count": 1,
   "metadata": {},
   "outputs": [],
   "source": [
    "# Import relevant packages\n",
    "from utils import save_data\n",
    "import os\n",
    "import numpy as np\n",
    "from computeShapeHistogram import computeShapeHistogram\n",
    "from utils import load_data\n",
    "from Mesh import Mesh\n",
    "from logisticRegressionTrain import logisticRegressionTrain\n",
    "from logisticRegressionTest import logisticRegressionTest"
   ]
  },
  {
   "cell_type": "code",
   "execution_count": 2,
   "metadata": {},
   "outputs": [],
   "source": [
    "# Import train and test directories\n",
    "# Dataset directory\n",
    "train_dir = '../dataset/train'\n",
    "test_dir = '../dataset/test'"
   ]
  },
  {
   "cell_type": "code",
   "execution_count": 3,
   "metadata": {},
   "outputs": [
    {
     "name": "stdout",
     "output_type": "stream",
     "text": [
      "102.obj Processed\n",
      "104.obj Processed\n",
      "106.obj Processed\n",
      "108.obj Processed\n",
      "110.obj Processed\n",
      "112.obj Processed\n",
      "114.obj Processed\n",
      "116.obj Processed\n",
      "118.obj Processed\n",
      "120.obj Processed\n",
      "142.obj Processed\n",
      "144.obj Processed\n",
      "146.obj Processed\n",
      "148.obj Processed\n",
      "150.obj Processed\n",
      "152.obj Processed\n",
      "154.obj Processed\n",
      "156.obj Processed\n",
      "158.obj Processed\n",
      "160.obj Processed\n"
     ]
    }
   ],
   "source": [
    "# Run training module for Logistic Regression\n",
    "w, min_y, max_y = logisticRegressionTrain(train_dir,loadData=False)"
   ]
  },
  {
   "cell_type": "code",
   "execution_count": 10,
   "metadata": {},
   "outputs": [
    {
     "data": {
      "text/plain": [
       "array([-1.09858383, -0.66095476, -0.63877755,  0.37885357, -0.39494772,\n",
       "        0.12920696,  0.3864657 , -0.33363011,  1.26531716, -0.92253404,\n",
       "       -0.20054199])"
      ]
     },
     "execution_count": 10,
     "metadata": {},
     "output_type": "execute_result"
    }
   ],
   "source": [
    "# Print weights and biases (note that the last component is for bias according to code)\n",
    "w"
   ]
  },
  {
   "cell_type": "code",
   "execution_count": 6,
   "metadata": {},
   "outputs": [
    {
     "name": "stdout",
     "output_type": "stream",
     "text": [
      "1.obj Processed\n",
      "2.obj Processed\n",
      "3.obj Processed\n",
      "4.obj Processed\n",
      "5.obj Processed\n",
      "6.obj Processed\n",
      "7.obj Processed\n",
      "8.obj Processed\n",
      "9.obj Processed\n",
      "10.obj Processed\n",
      "11.obj Processed\n",
      "12.obj Processed\n",
      "13.obj Processed\n",
      "14.obj Processed\n",
      "15.obj Processed\n",
      "16.obj Processed\n",
      "17.obj Processed\n",
      "18.obj Processed\n",
      "19.obj Processed\n",
      "20.obj Processed\n",
      "21.obj Processed\n",
      "22.obj Processed\n",
      "Test classification error : 4.55%\n"
     ]
    }
   ],
   "source": [
    "# Run the testing module on test data with training weights\n",
    "t, test_err,pred_lab,true_lab = logisticRegressionTest(test_dir, w, min_y, max_y, loadData=False)"
   ]
  },
  {
   "cell_type": "code",
   "execution_count": 7,
   "metadata": {},
   "outputs": [
    {
     "data": {
      "text/plain": [
       "(array([0.54278049, 0.45128368, 0.4515608 , 0.54008011, 0.50853654,\n",
       "        0.40427388, 0.47320588, 0.53705778, 0.54412352, 0.39847745,\n",
       "        0.58465391, 0.5286239 , 0.37876936, 0.53963489, 0.53966083,\n",
       "        0.44938368, 0.54184062, 0.5466929 , 0.43605757, 0.38440141,\n",
       "        0.4443197 , 0.53393423]),\n",
       " 0.045454545454545414,\n",
       " [1, 0, 0, 1, 1, 0, 0, 1, 1, 0, 1, 1, 0, 1, 1, 0, 1, 1, 0, 0, 0, 1],\n",
       " array([[1, 0, 0, 1, 0, 0, 0, 1, 1, 0, 1, 1, 0, 1, 1, 0, 1, 1, 0, 0, 0, 1]]))"
      ]
     },
     "execution_count": 7,
     "metadata": {},
     "output_type": "execute_result"
    }
   ],
   "source": [
    "# Print E\n",
    "t,test_err,pred_lab,true_lab"
   ]
  },
  {
   "cell_type": "code",
   "execution_count": 9,
   "metadata": {},
   "outputs": [
    {
     "data": {
      "text/plain": [
       "95.45454545454545"
      ]
     },
     "execution_count": 9,
     "metadata": {},
     "output_type": "execute_result"
    }
   ],
   "source": [
    "100-test_err*100"
   ]
  },
  {
   "cell_type": "code",
   "execution_count": null,
   "metadata": {},
   "outputs": [],
   "source": []
  }
 ],
 "metadata": {
  "kernelspec": {
   "display_name": "Python 3",
   "language": "python",
   "name": "python3"
  },
  "language_info": {
   "codemirror_mode": {
    "name": "ipython",
    "version": 3
   },
   "file_extension": ".py",
   "mimetype": "text/x-python",
   "name": "python",
   "nbconvert_exporter": "python",
   "pygments_lexer": "ipython3",
   "version": "3.8.3"
  }
 },
 "nbformat": 4,
 "nbformat_minor": 4
}
